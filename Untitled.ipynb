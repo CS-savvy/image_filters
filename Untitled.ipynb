{
 "cells": [
  {
   "cell_type": "code",
   "execution_count": 403,
   "metadata": {},
   "outputs": [],
   "source": [
    "from PIL import Image\n",
    "import numpy as np\n",
    "import math\n",
    "from matplotlib import pyplot as plt"
   ]
  },
  {
   "cell_type": "code",
   "execution_count": 394,
   "metadata": {},
   "outputs": [],
   "source": [
    "def clamp(p):\n",
    "    if p >= 255:\n",
    "        return 255\n",
    "    elif p<0:\n",
    "        return 0\n",
    "    else:\n",
    "        return p"
   ]
  },
  {
   "cell_type": "markdown",
   "metadata": {},
   "source": [
    "## Implimented Brightness"
   ]
  },
  {
   "cell_type": "code",
   "execution_count": 11,
   "metadata": {},
   "outputs": [],
   "source": [
    "img_in = np.asarray(Image.open('input/princeton_small.jpg'))\n",
    "factor = 1.0\n",
    "\n",
    "h,w = img_in.shape[:2]\n",
    "img_out = np.zeros_like(img_in)\n",
    "\n",
    "for i in range(h):\n",
    "    for j in range(w):\n",
    "        \n",
    "        r,g,b = img_in[i,j]\n",
    "        r = clamp(factor * r)\n",
    "        g = clamp(factor * g)\n",
    "        b = clamp(factor * b)\n",
    "        img_out[i,j] = (r,g,b)"
   ]
  },
  {
   "cell_type": "markdown",
   "metadata": {},
   "source": [
    "## Implemented contrast"
   ]
  },
  {
   "cell_type": "code",
   "execution_count": 33,
   "metadata": {},
   "outputs": [],
   "source": [
    "img_in = np.asarray(Image.open('input/c.jpg'))\n",
    "factor = 1.7\n",
    "h,w = img_in.shape[:2]\n",
    "img_out = np.zeros_like(img_in)\n",
    "avg_luminance = 0\n",
    "\n",
    "for i in range(h):\n",
    "    for j in range(w):\n",
    "        r,g,b = img_in[i,j]\n",
    "        avg_luminance += (0.3*r + 0.59*g + 0.11*b)\n",
    "        #mg_out[i,j] = (r,g,b)\n",
    "\n",
    "for i in range(h):\n",
    "    for j in range(w):\n",
    "        r,g,b = img_in[i,j]\n",
    "        r = (1 - factor)*avg_luminance + factor*r\n",
    "        g = (1 - factor)*avg_luminance + factor*g\n",
    "        b = (1 - factor)*avg_luminance + factor*b\n",
    "        img_out[i,j] = (r,g,b)\n"
   ]
  },
  {
   "cell_type": "markdown",
   "metadata": {},
   "source": [
    "## Gaussian blur"
   ]
  },
  {
   "cell_type": "code",
   "execution_count": 352,
   "metadata": {},
   "outputs": [],
   "source": [
    "def convolve_channel(kernel,image):\n",
    "    h,w = image.shape\n",
    "    pad_val = kernel.shape[0]//2\n",
    "    padded_image = np.zeros((image.shape[0] + pad_val*2 , image.shape[1] + pad_val*2))\n",
    "    padded_image[pad_val:-pad_val,pad_val:-pad_val] = image\n",
    "    image_out = np.zeros_like(image)\n",
    "    \n",
    "    for x in range(pad_val,w):\n",
    "        for y in range(pad_val,h):\n",
    "            roi_x1 = x - pad_val\n",
    "            roi_x2 = x + pad_val\n",
    "            roi_y1 = y - pad_val\n",
    "            roi_y2 = y + pad_val\n",
    "            \n",
    "            v = np.sum(np.sum(padded_image[roi_y1:roi_y2+1,roi_x1:roi_x2+1] * kernel))\n",
    "            image_out[y,x] = v\n",
    "    \n",
    "    return image_out[:,:] \n",
    "\n",
    "def fspecial_gauss(size, sigma):\n",
    "    x, y = np.mgrid[-size//2 + 1:size//2 + 1, -size//2 + 1:size//2 + 1]\n",
    "    g = np.exp(-((x**2 + y**2)/(2.0*sigma**2)))\n",
    "    return g/g.sum()"
   ]
  },
  {
   "cell_type": "code",
   "execution_count": 363,
   "metadata": {},
   "outputs": [],
   "source": [
    "def gaussian_blur(img_org,sigma):\n",
    "    img = img_org**(2.2)\n",
    "    size = sigma*2 +1\n",
    "    if sigma < 1:\n",
    "        size = 3\n",
    "    \n",
    "    gaussian_kernel = fspecial_gauss(size ,sigma)\n",
    "    kernel = gaussian_kernel\n",
    "    \n",
    "    r = convolve_channel(kernel , img[:,:,0])\n",
    "    g = convolve_channel(kernel , img[:,:,1])\n",
    "    b = convolve_channel(kernel , img[:,:,2])\n",
    "    \n",
    "    img_final = np.dstack((r,g,b))\n",
    "    img_final = img_final**(1.0/2.2)    \n",
    "    \n",
    "    return img_final"
   ]
  },
  {
   "cell_type": "code",
   "execution_count": 366,
   "metadata": {},
   "outputs": [],
   "source": [
    "img_org = np.asarray(Image.open('input/princeton_small.jpg'))/255.\n",
    "img_blurred = gaussian_blur(img_org , 2)"
   ]
  },
  {
   "cell_type": "markdown",
   "metadata": {},
   "source": [
    "## sharpen"
   ]
  },
  {
   "cell_type": "code",
   "execution_count": 396,
   "metadata": {},
   "outputs": [],
   "source": [
    "img_org = np.asarray(Image.open('input/princeton_small.jpg'))/255.\n",
    "img_blurred = gaussian_blur(img_org , 2)\n",
    "h,w = img_blurred.shape[:2]\n",
    "img = img_org[:h,:w]*255\n",
    "img_blurred = img_blurred*255\n",
    "img_sharpen = np.zeros_like(img)"
   ]
  },
  {
   "cell_type": "code",
   "execution_count": 397,
   "metadata": {},
   "outputs": [],
   "source": [
    "factor = 2\n",
    "for i in range(h):\n",
    "    for j in range(w):\n",
    "        r,g,b = img[i,j]\n",
    "        r_blur,g_blur,b_blur = img_blurred[i,j]\n",
    "        r = clamp((1-factor)*r_blur + factor*r)\n",
    "        g = clamp((1-factor)*g_blur + factor*g)\n",
    "        b = clamp((1-factor)*b_blur + factor*b)\n",
    "        img_sharpen[i,j] = (r,g,b)        "
   ]
  },
  {
   "cell_type": "code",
   "execution_count": null,
   "metadata": {},
   "outputs": [],
   "source": []
  },
  {
   "cell_type": "code",
   "execution_count": null,
   "metadata": {},
   "outputs": [],
   "source": []
  },
  {
   "cell_type": "code",
   "execution_count": null,
   "metadata": {},
   "outputs": [],
   "source": []
  },
  {
   "cell_type": "code",
   "execution_count": null,
   "metadata": {},
   "outputs": [],
   "source": []
  },
  {
   "cell_type": "code",
   "execution_count": null,
   "metadata": {},
   "outputs": [],
   "source": []
  },
  {
   "cell_type": "code",
   "execution_count": null,
   "metadata": {},
   "outputs": [],
   "source": []
  },
  {
   "cell_type": "code",
   "execution_count": null,
   "metadata": {},
   "outputs": [],
   "source": []
  },
  {
   "cell_type": "code",
   "execution_count": null,
   "metadata": {},
   "outputs": [],
   "source": []
  },
  {
   "cell_type": "code",
   "execution_count": 367,
   "metadata": {},
   "outputs": [
    {
     "data": {
      "image/png": "[encoded data removed]",
      "text/plain": [
       "<PIL.Image.Image image mode=RGB size=198x132 at 0x7F53B3486278>"
      ]
     },
     "execution_count": 367,
     "metadata": {},
     "output_type": "execute_result"
    }
   ],
   "source": [
    "im = Image.fromarray(np.uint8(img_final*255))\n",
    "#im.save('output/saved.jpg')\n",
    "im"
   ]
  },
  {
   "cell_type": "code",
   "execution_count": null,
   "metadata": {},
   "outputs": [],
   "source": []
  },
  {
   "cell_type": "code",
   "execution_count": null,
   "metadata": {},
   "outputs": [],
   "source": []
  },
  {
   "cell_type": "code",
   "execution_count": null,
   "metadata": {},
   "outputs": [],
   "source": []
  },
  {
   "cell_type": "code",
   "execution_count": null,
   "metadata": {},
   "outputs": [],
   "source": []
  }
 ],
 "metadata": {
  "kernelspec": {
   "display_name": "Python 3",
   "language": "python",
   "name": "python3"
  },
  "language_info": {
   "codemirror_mode": {
    "name": "ipython",
    "version": 3
   },
   "file_extension": ".py",
   "mimetype": "text/x-python",
   "name": "python",
   "nbconvert_exporter": "python",
   "pygments_lexer": "ipython3",
   "version": "3.7.1"
  }
 },
 "nbformat": 4,
 "nbformat_minor": 2
}
