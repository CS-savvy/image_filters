{
 "cells": [
  {
   "cell_type": "code",
   "execution_count": 16,
   "metadata": {},
   "outputs": [],
   "source": [
    "from PIL import Image\n",
    "import numpy as np\n",
    "import os"
   ]
  },
  {
   "cell_type": "markdown",
   "metadata": {},
   "source": [
    "## Utility functions"
   ]
  },
  {
   "cell_type": "code",
   "execution_count": 17,
   "metadata": {},
   "outputs": [],
   "source": [
    "try:\n",
    "    os.makedirs(\"output\")\n",
    "except:\n",
    "    pass\n",
    "\n",
    "def clamp(p):\n",
    "    if p >= 255:\n",
    "        return 255\n",
    "    elif p<0:\n",
    "        return 0\n",
    "    else:\n",
    "        return p\n",
    "    \n",
    "def convolve_channel(kernel,image):\n",
    "    h,w = image.shape\n",
    "    pad_val = kernel.shape[0]//2\n",
    "    padded_image = np.zeros((image.shape[0] + pad_val*2 , image.shape[1] + pad_val*2))\n",
    "    padded_image[pad_val:-pad_val,pad_val:-pad_val] = image\n",
    "    image_out = np.zeros_like(image)\n",
    "    \n",
    "    for x in range(pad_val,w):\n",
    "        for y in range(pad_val,h):\n",
    "            roi_x1 = x - pad_val\n",
    "            roi_x2 = x + pad_val\n",
    "            roi_y1 = y - pad_val\n",
    "            roi_y2 = y + pad_val\n",
    "            \n",
    "            v = np.sum(np.sum(padded_image[roi_y1:roi_y2+1,roi_x1:roi_x2+1] * kernel))\n",
    "            image_out[y,x] = v\n",
    "    \n",
    "    return image_out[:,:] \n",
    "\n",
    "\n",
    "def fspecial_gauss(size, sigma):\n",
    "    x, y = np.mgrid[-size//2 + 1:size//2 + 1, -size//2 + 1:size//2 + 1]\n",
    "    g = np.exp(-((x**2 + y**2)/(2.0*sigma**2)))\n",
    "    return g/g.sum()"
   ]
  },
  {
   "cell_type": "markdown",
   "metadata": {},
   "source": [
    "## Adjust brightness"
   ]
  },
  {
   "cell_type": "code",
   "execution_count": 3,
   "metadata": {},
   "outputs": [],
   "source": [
    "def brightness(img_in,factor):\n",
    "    h,w = img_in.shape[:2]\n",
    "    img_out = np.zeros_like(img_in)\n",
    "\n",
    "    for i in range(h):\n",
    "        for j in range(w):\n",
    "\n",
    "            r,g,b = img_in[i,j]\n",
    "            r = clamp(factor * r)\n",
    "            g = clamp(factor * g)\n",
    "            b = clamp(factor * b)\n",
    "            img_out[i,j] = (r,g,b)\n",
    "    \n",
    "    return img_out"
   ]
  },
  {
   "cell_type": "code",
   "execution_count": 4,
   "metadata": {},
   "outputs": [],
   "source": [
    "img_in = np.asarray(Image.open('input/princeton_small.jpg'))"
   ]
  },
  {
   "cell_type": "code",
   "execution_count": 5,
   "metadata": {},
   "outputs": [],
   "source": [
    "brightness_1 = brightness(img_in , 0.0)\n",
    "brightness_2 = brightness(img_in , 0.5)\n",
    "brightness_3 = brightness(img_in , 2.0)"
   ]
  },
  {
   "cell_type": "code",
   "execution_count": 6,
   "metadata": {},
   "outputs": [],
   "source": [
    "brightness_1 = Image.fromarray(np.uint8(brightness_1))\n",
    "brightness_2 = Image.fromarray(np.uint8(brightness_2))\n",
    "brightness_3 = Image.fromarray(np.uint8(brightness_3))\n",
    "brightness_1.save('output/princeton_small_brightness_0.0.jpg')\n",
    "brightness_2.save('output/princeton_small_brightness_0.5.jpg')\n",
    "brightness_3.save('output/princeton_small_brightness_2.0.jpg')"
   ]
  },
  {
   "cell_type": "markdown",
   "metadata": {},
   "source": [
    "## Adjusting contrast"
   ]
  },
  {
   "cell_type": "code",
   "execution_count": 7,
   "metadata": {},
   "outputs": [],
   "source": [
    "def change_contrast(img_in , factor):\n",
    "    \n",
    "    h,w = img_in.shape[:2]\n",
    "    img_out = np.zeros_like(img_in)\n",
    "    avg_luminance = 0\n",
    "\n",
    "    for i in range(h):\n",
    "        for j in range(w):\n",
    "            r,g,b = img_in[i,j]\n",
    "            avg_luminance += (0.3*r + 0.59*g + 0.11*b)\n",
    "\n",
    "    for i in range(h):\n",
    "        for j in range(w):\n",
    "            r,g,b = img_in[i,j]\n",
    "            r = (1 - factor)*avg_luminance + factor*r\n",
    "            g = (1 - factor)*avg_luminance + factor*g\n",
    "            b = (1 - factor)*avg_luminance + factor*b\n",
    "            img_out[i,j] = (r,g,b)\n",
    "\n",
    "    return img_out"
   ]
  },
  {
   "cell_type": "code",
   "execution_count": 8,
   "metadata": {},
   "outputs": [],
   "source": [
    "img_in = np.asarray(Image.open('input/c.jpg'))\n",
    "\n",
    "contrast_1 = change_contrast(img_in,-0.5)\n",
    "contrast_2 = change_contrast(img_in, 0.0)\n",
    "contrast_3 = change_contrast(img_in, 0.5)\n",
    "contrast_4 = change_contrast(img_in, 2.0)\n",
    "contrast_1 = Image.fromarray(np.uint8(contrast_1))\n",
    "contrast_2 = Image.fromarray(np.uint8(contrast_2))\n",
    "contrast_3 = Image.fromarray(np.uint8(contrast_3))\n",
    "contrast_4 = Image.fromarray(np.uint8(contrast_4))\n",
    "contrast_1.save('output/c_contrast_-0.5.jpg')\n",
    "contrast_2.save('output/c_contrast_0.0.jpg') \n",
    "contrast_3.save('output/c_contrast_0.5.jpg')\n",
    "contrast_4.save('output/c_contrast_2.0.jpg')"
   ]
  },
  {
   "cell_type": "code",
   "execution_count": null,
   "metadata": {},
   "outputs": [],
   "source": []
  },
  {
   "cell_type": "markdown",
   "metadata": {},
   "source": [
    "## Gaussian blur"
   ]
  },
  {
   "cell_type": "code",
   "execution_count": 9,
   "metadata": {},
   "outputs": [],
   "source": [
    "def gaussian_blur(img_org,sigma):\n",
    "    img = img_org**(2.2)\n",
    "    size = sigma*2 +1\n",
    "    if sigma < 1:\n",
    "        size = 3\n",
    "    \n",
    "    \n",
    "    \n",
    "    gaussian_kernel = fspecial_gauss(size ,sigma)\n",
    "    kernel = gaussian_kernel\n",
    "    pad_val = kernel.shape[0]//2\n",
    "    \n",
    "    r = convolve_channel(kernel , img[:,:,0])\n",
    "    g = convolve_channel(kernel , img[:,:,1])\n",
    "    b = convolve_channel(kernel , img[:,:,2])\n",
    "    \n",
    "    img_final = np.dstack((r,g,b))\n",
    "    img_final = img_final**(1.0/2.2)    \n",
    "    \n",
    "    return img_final[pad_val:,pad_val:]"
   ]
  },
  {
   "cell_type": "code",
   "execution_count": 10,
   "metadata": {},
   "outputs": [],
   "source": [
    "img_org = np.asarray(Image.open('input/princeton_small.jpg'))/255.\n",
    "blurred_1 = gaussian_blur(img_org , 0.125)\n",
    "blurred_2 = gaussian_blur(img_org , 2)\n",
    "blurred_3 = gaussian_blur(img_org , 8)"
   ]
  },
  {
   "cell_type": "code",
   "execution_count": 11,
   "metadata": {},
   "outputs": [],
   "source": [
    "blurred_1 = Image.fromarray(np.uint8(blurred_1*255.))\n",
    "blurred_2 = Image.fromarray(np.uint8(blurred_2*255.))\n",
    "blurred_3 = Image.fromarray(np.uint8(blurred_3*255.))\n",
    "blurred_1.save('output/blur_0.125.jpg')\n",
    "blurred_2.save('output/blur_2.jpg')\n",
    "blurred_3.save('output/blur_8.jpg')"
   ]
  },
  {
   "cell_type": "markdown",
   "metadata": {},
   "source": [
    "## Sharpen"
   ]
  },
  {
   "cell_type": "code",
   "execution_count": 12,
   "metadata": {},
   "outputs": [],
   "source": [
    "def sharpen(img_in):\n",
    "    img_blurred = gaussian_blur(img_in , 2)\n",
    "    h,w = img_blurred.shape[:2]\n",
    "    img = img_in[:h,:w]*255\n",
    "    img_blurred = img_blurred*255\n",
    "    img_sharpen = np.zeros_like(img)\n",
    "\n",
    "    factor = 2\n",
    "    for i in range(h):\n",
    "        for j in range(w):\n",
    "            r,g,b = img[i,j]\n",
    "            r_blur,g_blur,b_blur = img_blurred[i,j]\n",
    "            r = clamp((1-factor)*r_blur + factor*r)\n",
    "            g = clamp((1-factor)*g_blur + factor*g)\n",
    "            b = clamp((1-factor)*b_blur + factor*b)\n",
    "            img_sharpen[i,j] = (r,g,b)  \n",
    "            \n",
    "    return img_sharpen"
   ]
  },
  {
   "cell_type": "code",
   "execution_count": 13,
   "metadata": {},
   "outputs": [],
   "source": [
    "img_org = np.asarray(Image.open('input/princeton_small.jpg'))/255.\n",
    "sharp = sharpen(img_org)\n",
    "sharp_im = Image.fromarray(np.uint8(sharp))\n",
    "sharp_im.save('output/sharpen.jpg')"
   ]
  },
  {
   "cell_type": "markdown",
   "metadata": {},
   "source": [
    "## Edge Detection"
   ]
  },
  {
   "cell_type": "code",
   "execution_count": 14,
   "metadata": {},
   "outputs": [],
   "source": [
    "def edges(img_org):\n",
    "    \n",
    "    Gx = np.array([[-1,0,1],[-2,0,2],[-1,0,+1]])\n",
    "    Gy = np.array([[1,2,1],[0,0,0],[-1,-2,-1]])\n",
    "    \n",
    "    img_gray = 0.30*img_org[:,:,0] + 0.59*img_org[:,:,1] + 0.11*img_org[:,:,2]\n",
    "    \n",
    "    h_edge = convolve_channel(Gx,img_gray)\n",
    "    v_edge = convolve_channel(Gy,img_gray)\n",
    "    clamp_vec = np.vectorize(clamp)\n",
    "    h_edge = clamp_vec(h_edge)\n",
    "    v_edge = clamp_vec(v_edge)\n",
    "    \n",
    "    edge = np.sqrt(h_edge**2 + v_edge**2)\n",
    "    \n",
    "    return edge\n"
   ]
  },
  {
   "cell_type": "code",
   "execution_count": 15,
   "metadata": {},
   "outputs": [],
   "source": [
    "img_org = np.asarray(Image.open('input/princeton_small.jpg'))\n",
    "edge = edges(img_org)\n",
    "sharp_im = Image.fromarray(np.uint8(edge))\n",
    "sharp_im.save('output/edgedetect.jpg')"
   ]
  },
  {
   "cell_type": "code",
   "execution_count": null,
   "metadata": {},
   "outputs": [],
   "source": []
  },
  {
   "cell_type": "code",
   "execution_count": null,
   "metadata": {},
   "outputs": [],
   "source": []
  },
  {
   "cell_type": "code",
   "execution_count": null,
   "metadata": {},
   "outputs": [],
   "source": []
  },
  {
   "cell_type": "code",
   "execution_count": null,
   "metadata": {},
   "outputs": [],
   "source": []
  },
  {
   "cell_type": "code",
   "execution_count": null,
   "metadata": {},
   "outputs": [],
   "source": []
  },
  {
   "cell_type": "code",
   "execution_count": null,
   "metadata": {},
   "outputs": [],
   "source": []
  },
  {
   "cell_type": "code",
   "execution_count": null,
   "metadata": {},
   "outputs": [],
   "source": []
  },
  {
   "cell_type": "code",
   "execution_count": null,
   "metadata": {},
   "outputs": [],
   "source": []
  },
  {
   "cell_type": "code",
   "execution_count": null,
   "metadata": {},
   "outputs": [],
   "source": []
  },
  {
   "cell_type": "code",
   "execution_count": null,
   "metadata": {},
   "outputs": [],
   "source": []
  }
 ],
 "metadata": {
  "kernelspec": {
   "display_name": "Python 3",
   "language": "python",
   "name": "python3"
  },
  "language_info": {
   "codemirror_mode": {
    "name": "ipython",
    "version": 3
   },
   "file_extension": ".py",
   "mimetype": "text/x-python",
   "name": "python",
   "nbconvert_exporter": "python",
   "pygments_lexer": "ipython3",
   "version": "3.7.1"
  }
 },
 "nbformat": 4,
 "nbformat_minor": 2
}
